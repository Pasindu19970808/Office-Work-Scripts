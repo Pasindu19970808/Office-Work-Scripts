{
 "metadata": {
  "language_info": {
   "codemirror_mode": {
    "name": "ipython",
    "version": 3
   },
   "file_extension": ".py",
   "mimetype": "text/x-python",
   "name": "python",
   "nbconvert_exporter": "python",
   "pygments_lexer": "ipython3",
   "version": "3.7.3-final"
  },
  "orig_nbformat": 2,
  "kernelspec": {
   "name": "python373jvsc74a57bd0f9f324c6e9dca2c22e2ea1fee79c181e2039c6579d2c001d74404c6edd22b99c",
   "display_name": "Python 3.7.3 64-bit"
  }
 },
 "nbformat": 4,
 "nbformat_minor": 2,
 "cells": [
  {
   "cell_type": "code",
   "execution_count": 1,
   "metadata": {},
   "outputs": [],
   "source": [
    "import numpy as np"
   ]
  },
  {
   "cell_type": "code",
   "execution_count": 24,
   "metadata": {},
   "outputs": [],
   "source": [
    "\n",
    "x = np.array([1,34],dtype = np.float64)"
   ]
  },
  {
   "cell_type": "code",
   "execution_count": 25,
   "metadata": {},
   "outputs": [
    {
     "output_type": "execute_result",
     "data": {
      "text/plain": [
       "array([  0,   0,   0,   0,   0,   0, 240,  63,   0,   0,   0,   0,   0,\n",
       "         0,  65,  64], dtype=uint8)"
      ]
     },
     "metadata": {},
     "execution_count": 25
    }
   ],
   "source": [
    "x.view(np.uint8)"
   ]
  },
  {
   "cell_type": "code",
   "execution_count": 28,
   "metadata": {},
   "outputs": [],
   "source": [
    "shape_dim1 = 1\n",
    "shape_dim2 = np.array(list('pumpernickel90-B1-1C-99-F1-6620214')).shape[0]\n"
   ]
  },
  {
   "cell_type": "code",
   "execution_count": 33,
   "metadata": {},
   "outputs": [],
   "source": [
    "asciibytearray = [ord(i) for i in list('char')]"
   ]
  },
  {
   "cell_type": "code",
   "execution_count": 67,
   "metadata": {},
   "outputs": [
    {
     "output_type": "execute_result",
     "data": {
      "text/plain": [
       "array([ 99, 104,  97, 114,   0,   0,   0,   0,   0,   0, 240,  63,   0,\n",
       "         0,   0,   0,   0,   0,  65,  64])"
      ]
     },
     "metadata": {},
     "execution_count": 67
    }
   ],
   "source": [
    "np.c_[np.array(asciibytearray).reshape(1,-1),np.array([1,34],dtype = np.float64).view(np.uint8).reshape(1,-1)][0]"
   ]
  },
  {
   "cell_type": "code",
   "execution_count": 58,
   "metadata": {},
   "outputs": [
    {
     "output_type": "execute_result",
     "data": {
      "text/plain": [
       "numpy.uint8"
      ]
     },
     "metadata": {},
     "execution_count": 58
    }
   ],
   "source": [
    "type(np.append(np.array(asciibytearray).view(np.uint8)[[0,4,8,12]],np.array([1,34],dtype = np.float64).view(np.uint8).reshape(1,-1))[0])"
   ]
  },
  {
   "cell_type": "code",
   "execution_count": 68,
   "metadata": {},
   "outputs": [],
   "source": [
    "bt_1 = np.append(np.array(asciibytearray).view(np.uint8)[[0,4,8,12]],np.array([1,34],dtype = np.float64).view(np.uint8).reshape(1,-1))"
   ]
  },
  {
   "cell_type": "code",
   "execution_count": 70,
   "metadata": {},
   "outputs": [
    {
     "output_type": "execute_result",
     "data": {
      "text/plain": [
       "array([ 99, 104,  97, 114,   0,   0,   0,   0,   0,   0, 240,  63,   0,\n",
       "         0,   0,   0,   0,   0,  65,  64], dtype=uint8)"
      ]
     },
     "metadata": {},
     "execution_count": 70
    }
   ],
   "source": [
    "bt_1"
   ]
  },
  {
   "cell_type": "code",
   "execution_count": 71,
   "metadata": {},
   "outputs": [],
   "source": [
    "import hashlib\n",
    "hashlib_object = hashlib.md5()\n",
    "\n",
    "hashlib_object.update(bt_1)"
   ]
  },
  {
   "cell_type": "code",
   "execution_count": 72,
   "metadata": {},
   "outputs": [
    {
     "output_type": "execute_result",
     "data": {
      "text/plain": [
       "'e7e0077c51dc30cf5f9b6b141849e6a2'"
      ]
     },
     "metadata": {},
     "execution_count": 72
    }
   ],
   "source": [
    "hashlib_object.hexdigest()"
   ]
  },
  {
   "cell_type": "code",
   "execution_count": 79,
   "metadata": {},
   "outputs": [
    {
     "output_type": "execute_result",
     "data": {
      "text/plain": [
       "[231, 224, 7, 124, 81, 220, 48, 207, 95, 155, 107, 20, 24, 73, 230, 162]"
      ]
     },
     "metadata": {},
     "execution_count": 79
    }
   ],
   "source": [
    "list(hashlib_object.digest())"
   ]
  },
  {
   "cell_type": "code",
   "execution_count": null,
   "metadata": {},
   "outputs": [],
   "source": []
  }
 ]
}