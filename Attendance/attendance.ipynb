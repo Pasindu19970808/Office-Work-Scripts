{
 "metadata": {
  "language_info": {
   "codemirror_mode": {
    "name": "ipython",
    "version": 3
   },
   "file_extension": ".py",
   "mimetype": "text/x-python",
   "name": "python",
   "nbconvert_exporter": "python",
   "pygments_lexer": "ipython3",
   "version": "3.7.4"
  },
  "orig_nbformat": 2,
  "kernelspec": {
   "name": "python374jvsc74a57bd024452d9466b798afdf80856e9f6e8c2cf60a82028a1fd5e89bd7c1cf4340276b",
   "display_name": "Python 3.7.4 32-bit"
  },
  "metadata": {
   "interpreter": {
    "hash": "24452d9466b798afdf80856e9f6e8c2cf60a82028a1fd5e89bd7c1cf4340276b"
   }
  }
 },
 "nbformat": 4,
 "nbformat_minor": 2,
 "cells": [
  {
   "cell_type": "code",
   "execution_count": 1,
   "metadata": {},
   "outputs": [],
   "source": [
    "import os\n",
    "import pandas as pd\n",
    "from datetime import datetime\n",
    "import re"
   ]
  },
  {
   "cell_type": "code",
   "execution_count": 2,
   "metadata": {},
   "outputs": [],
   "source": [
    "path = r'\\\\hkdc01\\\\Projects\\\\11-2-21-004 NLNG TRAIN 7 - HAZOP AND SIL SERVICES\\\\4 Execution\\\\Workshop\\\\Team 1\\\\Attendance\\\\Attendance Sheets\\\\Team 1'"
   ]
  },
  {
   "cell_type": "code",
   "execution_count": 3,
   "metadata": {},
   "outputs": [],
   "source": [
    "list_of_csvs = os.listdir(path) "
   ]
  },
  {
   "cell_type": "code",
   "execution_count": 4,
   "metadata": {},
   "outputs": [
    {
     "output_type": "execute_result",
     "data": {
      "text/plain": [
       "['meetingAttendanceList - Team 1 - 01-05-2021.csv',\n",
       " 'meetingAttendanceList - Team 1 - 01-07-2021.csv',\n",
       " 'meetingAttendanceList - Team 1 - 03-06-2021.csv',\n",
       " 'meetingAttendanceList - Team 1 - 04-05-2021.csv',\n",
       " 'meetingAttendanceList - Team 1 - 04-06-2021.csv',\n",
       " 'meetingAttendanceList - Team 1 - 05-05-2021.csv',\n",
       " 'meetingAttendanceList - Team 1 - 05-07-2021.csv',\n",
       " 'meetingAttendanceList - Team 1 - 06-05-2021.csv',\n",
       " 'meetingAttendanceList - Team 1 - 06-07-2021.csv',\n",
       " 'meetingAttendanceList - Team 1 - 07-05-2021.csv',\n",
       " 'meetingAttendanceList - Team 1 - 07-06-2021.csv',\n",
       " 'meetingAttendanceList - Team 1 - 08-06-2021.csv',\n",
       " 'meetingAttendanceList - Team 1 - 08-07-2021.csv',\n",
       " 'meetingAttendanceList - Team 1 - 09-06-2021.csv',\n",
       " 'meetingAttendanceList - Team 1 - 09-07-2021.csv',\n",
       " 'meetingAttendanceList - Team 1 - 10-06-2021.csv',\n",
       " 'meetingAttendanceList - Team 1 - 11-05-2021.csv',\n",
       " 'meetingAttendanceList - Team 1 - 11-06-2021.csv',\n",
       " 'meetingAttendanceList - Team 1 - 15-06-2021.csv',\n",
       " 'meetingAttendanceList - Team 1 - 16-06-2021.csv',\n",
       " 'meetingAttendanceList - Team 1 - 17-05-2021.csv',\n",
       " 'meetingAttendanceList - Team 1 - 17-06-2021.csv',\n",
       " 'meetingAttendanceList - Team 1 - 18-05-2021.csv',\n",
       " 'meetingAttendanceList - Team 1 - 19-05-2021.csv',\n",
       " 'meetingAttendanceList - Team 1 - 20-05-2021.csv',\n",
       " 'meetingAttendanceList - Team 1 - 21-05-2021.csv',\n",
       " 'meetingAttendanceList - Team 1 - 21-06-2021.csv',\n",
       " 'meetingAttendanceList - Team 1 - 22-06-2021.csv',\n",
       " 'meetingAttendanceList - Team 1 - 23-06-2021.csv',\n",
       " 'meetingAttendanceList - Team 1 - 24-05-2021.csv',\n",
       " 'meetingAttendanceList - Team 1 - 24-06-2021.csv',\n",
       " 'meetingAttendanceList - Team 1 - 25-05-2021.csv',\n",
       " 'meetingAttendanceList - Team 1 - 25-06-1979.csv',\n",
       " 'meetingAttendanceList - Team 1 - 26-05-2021.csv',\n",
       " 'meetingAttendanceList - Team 1 - 27-05-2021.csv',\n",
       " 'meetingAttendanceList - Team 1 - 28-05-2021.csv',\n",
       " 'meetingAttendanceList - Team 1 - 28-06-2021.csv',\n",
       " 'meetingAttendanceList - Team 1 - 29-06-2021.csv',\n",
       " 'meetingAttendanceList - Team 1 - 30-06-2021.csv',\n",
       " 'meetingAttendanceList - Team 1 - 31-05-2021.csv']"
      ]
     },
     "metadata": {},
     "execution_count": 4
    }
   ],
   "source": [
    "list_of_csvs"
   ]
  },
  {
   "cell_type": "code",
   "execution_count": 5,
   "metadata": {},
   "outputs": [],
   "source": [
    "sorted_csv_list = sorted(list_of_csvs, key = lambda x:datetime.strptime(re.findall(r'[0-9-]+.csv',x)[0][0:10],\"%d-%m-%Y\"))"
   ]
  },
  {
   "cell_type": "code",
   "execution_count": 6,
   "metadata": {},
   "outputs": [
    {
     "output_type": "execute_result",
     "data": {
      "text/plain": [
       "'meetingAttendanceList - Team 1 - 25-06-1979.csv'"
      ]
     },
     "metadata": {},
     "execution_count": 6
    }
   ],
   "source": [
    "sorted_csv_list[0]"
   ]
  },
  {
   "cell_type": "code",
   "execution_count": 11,
   "metadata": {},
   "outputs": [],
   "source": [
    "attendance_daily_df = pd.read_csv(os.path.join(path,sorted_csv_list[0]),sep = '\\t')"
   ]
  },
  {
   "cell_type": "code",
   "execution_count": 12,
   "metadata": {},
   "outputs": [
    {
     "output_type": "execute_result",
     "data": {
      "text/plain": [
       "    ��N  Unnamed: 1\n",
       "0   NaN         NaN\n",
       "1   NaN         NaN\n",
       "2   NaN         NaN\n",
       "3   NaN         NaN\n",
       "4   NaN         NaN\n",
       "..  ...         ...\n",
       "95  NaN         NaN\n",
       "96  NaN         NaN\n",
       "97  NaN         NaN\n",
       "98  NaN         NaN\n",
       "99  NaN         NaN\n",
       "\n",
       "[100 rows x 2 columns]"
      ],
      "text/html": "<div>\n<style scoped>\n    .dataframe tbody tr th:only-of-type {\n        vertical-align: middle;\n    }\n\n    .dataframe tbody tr th {\n        vertical-align: top;\n    }\n\n    .dataframe thead th {\n        text-align: right;\n    }\n</style>\n<table border=\"1\" class=\"dataframe\">\n  <thead>\n    <tr style=\"text-align: right;\">\n      <th></th>\n      <th>��N</th>\n      <th>Unnamed: 1</th>\n    </tr>\n  </thead>\n  <tbody>\n    <tr>\n      <th>0</th>\n      <td>NaN</td>\n      <td>NaN</td>\n    </tr>\n    <tr>\n      <th>1</th>\n      <td>NaN</td>\n      <td>NaN</td>\n    </tr>\n    <tr>\n      <th>2</th>\n      <td>NaN</td>\n      <td>NaN</td>\n    </tr>\n    <tr>\n      <th>3</th>\n      <td>NaN</td>\n      <td>NaN</td>\n    </tr>\n    <tr>\n      <th>4</th>\n      <td>NaN</td>\n      <td>NaN</td>\n    </tr>\n    <tr>\n      <th>...</th>\n      <td>...</td>\n      <td>...</td>\n    </tr>\n    <tr>\n      <th>95</th>\n      <td>NaN</td>\n      <td>NaN</td>\n    </tr>\n    <tr>\n      <th>96</th>\n      <td>NaN</td>\n      <td>NaN</td>\n    </tr>\n    <tr>\n      <th>97</th>\n      <td>NaN</td>\n      <td>NaN</td>\n    </tr>\n    <tr>\n      <th>98</th>\n      <td>NaN</td>\n      <td>NaN</td>\n    </tr>\n    <tr>\n      <th>99</th>\n      <td>NaN</td>\n      <td>NaN</td>\n    </tr>\n  </tbody>\n</table>\n<p>100 rows × 2 columns</p>\n</div>"
     },
     "metadata": {},
     "execution_count": 12
    }
   ],
   "source": [
    "attendance_daily_df"
   ]
  },
  {
   "cell_type": "code",
   "execution_count": null,
   "metadata": {},
   "outputs": [],
   "source": []
  }
 ]
}