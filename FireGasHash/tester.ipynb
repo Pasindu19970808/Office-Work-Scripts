{
 "metadata": {
  "language_info": {
   "codemirror_mode": {
    "name": "ipython",
    "version": 3
   },
   "file_extension": ".py",
   "mimetype": "text/x-python",
   "name": "python",
   "nbconvert_exporter": "python",
   "pygments_lexer": "ipython3",
   "version": "3.8.8-final"
  },
  "orig_nbformat": 2,
  "kernelspec": {
   "name": "python388jvsc74a57bd0965ba1120b0c101b3f715b6e258a73742ec1cf86f2c8b04492724c87d9f112c3",
   "display_name": "Python 3.8.8 64-bit"
  },
  "metadata": {
   "interpreter": {
    "hash": "965ba1120b0c101b3f715b6e258a73742ec1cf86f2c8b04492724c87d9f112c3"
   }
  }
 },
 "nbformat": 4,
 "nbformat_minor": 2,
 "cells": [
  {
   "cell_type": "code",
   "execution_count": 1,
   "metadata": {},
   "outputs": [],
   "source": [
    "import numpy as np"
   ]
  },
  {
   "cell_type": "code",
   "execution_count": 2,
   "metadata": {},
   "outputs": [],
   "source": [
    "\n",
    "x = np.array([1,34],dtype = np.float64)"
   ]
  },
  {
   "cell_type": "code",
   "execution_count": 3,
   "metadata": {},
   "outputs": [
    {
     "output_type": "execute_result",
     "data": {
      "text/plain": [
       "array([  0,   0,   0,   0,   0,   0, 240,  63,   0,   0,   0,   0,   0,\n",
       "         0,  65,  64], dtype=uint8)"
      ]
     },
     "metadata": {},
     "execution_count": 3
    }
   ],
   "source": [
    "x.view(np.uint8)"
   ]
  },
  {
   "cell_type": "code",
   "execution_count": 4,
   "metadata": {},
   "outputs": [],
   "source": [
    "shape_dim1 = 1\n",
    "shape_dim2 = np.array(list('pumpernickel90-B1-1C-99-F1-6620214')).shape[0]\n"
   ]
  },
  {
   "cell_type": "code",
   "execution_count": 5,
   "metadata": {},
   "outputs": [],
   "source": [
    "asciibytearray = [ord(i) for i in list('char')]"
   ]
  },
  {
   "cell_type": "code",
   "execution_count": 6,
   "metadata": {},
   "outputs": [
    {
     "output_type": "execute_result",
     "data": {
      "text/plain": [
       "array([ 99, 104,  97, 114,   0,   0,   0,   0,   0,   0, 240,  63,   0,\n",
       "         0,   0,   0,   0,   0,  65,  64])"
      ]
     },
     "metadata": {},
     "execution_count": 6
    }
   ],
   "source": [
    "np.c_[np.array(asciibytearray).reshape(1,-1),np.array([1,34],dtype = np.float64).view(np.uint8).reshape(1,-1)][0]"
   ]
  },
  {
   "cell_type": "code",
   "execution_count": 7,
   "metadata": {},
   "outputs": [
    {
     "output_type": "execute_result",
     "data": {
      "text/plain": [
       "numpy.uint8"
      ]
     },
     "metadata": {},
     "execution_count": 7
    }
   ],
   "source": [
    "type(np.append(np.array(asciibytearray).view(np.uint8)[[0,4,8,12]],np.array([1,34],dtype = np.float64).view(np.uint8).reshape(1,-1))[0])"
   ]
  },
  {
   "cell_type": "code",
   "execution_count": 8,
   "metadata": {},
   "outputs": [],
   "source": [
    "bt_1 = np.append(np.array(asciibytearray).view(np.uint8)[[0,4,8,12]],np.array([1,34],dtype = np.float64).view(np.uint8).reshape(1,-1))"
   ]
  },
  {
   "cell_type": "code",
   "execution_count": 9,
   "metadata": {},
   "outputs": [
    {
     "output_type": "execute_result",
     "data": {
      "text/plain": [
       "array([ 99, 104,  97, 114,   0,   0,   0,   0,   0,   0, 240,  63,   0,\n",
       "         0,   0,   0,   0,   0,  65,  64], dtype=uint8)"
      ]
     },
     "metadata": {},
     "execution_count": 9
    }
   ],
   "source": [
    "bt_1"
   ]
  },
  {
   "cell_type": "code",
   "execution_count": 10,
   "metadata": {},
   "outputs": [],
   "source": [
    "import hashlib\n",
    "hashlib_object = hashlib.md5()\n",
    "\n",
    "hashlib_object.update(bt_1)"
   ]
  },
  {
   "cell_type": "code",
   "execution_count": 11,
   "metadata": {},
   "outputs": [
    {
     "output_type": "execute_result",
     "data": {
      "text/plain": [
       "'e7e0077c51dc30cf5f9b6b141849e6a2'"
      ]
     },
     "metadata": {},
     "execution_count": 11
    }
   ],
   "source": [
    "hashlib_object.hexdigest()"
   ]
  },
  {
   "cell_type": "code",
   "execution_count": 18,
   "metadata": {},
   "outputs": [
    {
     "output_type": "execute_result",
     "data": {
      "text/plain": [
       "dtype('int32')"
      ]
     },
     "metadata": {},
     "execution_count": 18
    }
   ],
   "source": [
    "np.array(asciibytearray).dtype"
   ]
  },
  {
   "cell_type": "code",
   "execution_count": 15,
   "metadata": {},
   "outputs": [
    {
     "output_type": "execute_result",
     "data": {
      "text/plain": [
       "'e7e0077c51dc30cf5f9b6b141849e6a2'"
      ]
     },
     "metadata": {},
     "execution_count": 15
    }
   ],
   "source": [
    "hashlib_object.hexdigest()"
   ]
  },
  {
   "cell_type": "code",
   "execution_count": 31,
   "metadata": {},
   "outputs": [
    {
     "output_type": "execute_result",
     "data": {
      "text/plain": [
       "dtype('int8')"
      ]
     },
     "metadata": {},
     "execution_count": 31
    }
   ],
   "source": [
    "np.array([np.array(list(hashlib_object.digest())).view(np.int8)[i] for i in range(0,np.array(list(hashlib_object.digest())).view(np.int8).shape[0]) if i%4 == 0]).dtype"
   ]
  },
  {
   "cell_type": "code",
   "execution_count": 29,
   "metadata": {},
   "outputs": [
    {
     "output_type": "execute_result",
     "data": {
      "text/plain": [
       "(64,)"
      ]
     },
     "metadata": {},
     "execution_count": 29
    }
   ],
   "source": [
    "np.array(list(hashlib_object.digest())).view(np.int8).shape"
   ]
  },
  {
   "cell_type": "code",
   "execution_count": 36,
   "metadata": {},
   "outputs": [
    {
     "output_type": "execute_result",
     "data": {
      "text/plain": [
       "dtype('int32')"
      ]
     },
     "metadata": {},
     "execution_count": 36
    }
   ],
   "source": [
    "np.array(list(hashlib_object.digest())).dtype"
   ]
  },
  {
   "cell_type": "code",
   "execution_count": 47,
   "metadata": {},
   "outputs": [
    {
     "output_type": "execute_result",
     "data": {
      "text/plain": [
       "array([112,   0, 117,   0, 109,   0, 112,   0, 101,   0, 114,   0, 110,\n",
       "         0, 105,   0,  99,   0, 107,   0, 101,   0, 108,   0,  57,   0,\n",
       "        48,   0,  45,   0,  66,   0,  49,   0,  45,   0,  49,   0,  67,\n",
       "         0,  45,   0,  57,   0,  57,   0,  45,   0,  70,   0,  49,   0,\n",
       "        45,   0,  54,   0,  54,   0,  50,   0,  48,   0,  50,   0,  49,\n",
       "         0,  52,   0], dtype=uint16)"
      ]
     },
     "metadata": {},
     "execution_count": 47
    }
   ],
   "source": [
    "np.array([ord(i) for i  in list('pumpernickel90-B1-1C-99-F1-6620214')]).view(np.uint16)"
   ]
  },
  {
   "cell_type": "code",
   "execution_count": 48,
   "metadata": {},
   "outputs": [],
   "source": [
    "final_update = np.array([np.array([ord(i) for i  in list('pumpernickel90-B1-1C-99-F1-6620214')]).view(np.uint16)[i] for i in range(0,np.array([ord(i) for i  in list('pumpernickel90-B1-1C-99-F1-6620214')]).view(np.uint16).shape[0]) if i%2 == 0]).view(np.uint8)"
   ]
  },
  {
   "cell_type": "code",
   "execution_count": 49,
   "metadata": {},
   "outputs": [
    {
     "output_type": "execute_result",
     "data": {
      "text/plain": [
       "array([112,   0, 117,   0, 109,   0, 112,   0, 101,   0, 114,   0, 110,\n",
       "         0, 105,   0,  99,   0, 107,   0, 101,   0, 108,   0,  57,   0,\n",
       "        48,   0,  45,   0,  66,   0,  49,   0,  45,   0,  49,   0,  67,\n",
       "         0,  45,   0,  57,   0,  57,   0,  45,   0,  70,   0,  49,   0,\n",
       "        45,   0,  54,   0,  54,   0,  50,   0,  48,   0,  50,   0,  49,\n",
       "         0,  52,   0], dtype=uint8)"
      ]
     },
     "metadata": {},
     "execution_count": 49
    }
   ],
   "source": [
    "final_update"
   ]
  },
  {
   "cell_type": "code",
   "execution_count": 50,
   "metadata": {},
   "outputs": [],
   "source": [
    "hashlib_object.update(final_update)"
   ]
  },
  {
   "cell_type": "code",
   "execution_count": 51,
   "metadata": {},
   "outputs": [
    {
     "output_type": "execute_result",
     "data": {
      "text/plain": [
       "'ae78c87f40094daf52ce0c8d5c3bfd41'"
      ]
     },
     "metadata": {},
     "execution_count": 51
    }
   ],
   "source": [
    "hashlib_object.hexdigest()"
   ]
  },
  {
   "cell_type": "code",
   "execution_count": 52,
   "metadata": {},
   "outputs": [
    {
     "output_type": "execute_result",
     "data": {
      "text/plain": [
       "[174, 120, 200, 127, 64, 9, 77, 175, 82, 206, 12, 141, 92, 59, 253, 65]"
      ]
     },
     "metadata": {},
     "execution_count": 52
    }
   ],
   "source": [
    "list(hashlib_object.digest())"
   ]
  },
  {
   "cell_type": "code",
   "execution_count": null,
   "metadata": {},
   "outputs": [],
   "source": []
  }
 ]
}