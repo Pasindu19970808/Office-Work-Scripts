{
 "metadata": {
  "language_info": {
   "codemirror_mode": {
    "name": "ipython",
    "version": 3
   },
   "file_extension": ".py",
   "mimetype": "text/x-python",
   "name": "python",
   "nbconvert_exporter": "python",
   "pygments_lexer": "ipython3",
   "version": "3.7.4-final"
  },
  "orig_nbformat": 2,
  "kernelspec": {
   "name": "python374jvsc74a57bd024452d9466b798afdf80856e9f6e8c2cf60a82028a1fd5e89bd7c1cf4340276b",
   "display_name": "Python 3.7.4 32-bit"
  },
  "metadata": {
   "interpreter": {
    "hash": "24452d9466b798afdf80856e9f6e8c2cf60a82028a1fd5e89bd7c1cf4340276b"
   }
  }
 },
 "nbformat": 4,
 "nbformat_minor": 2,
 "cells": [
  {
   "cell_type": "code",
   "execution_count": 1,
   "metadata": {},
   "outputs": [],
   "source": [
    "import fitz\n",
    "import pandas as pd\n",
    "import os"
   ]
  },
  {
   "cell_type": "code",
   "execution_count": 2,
   "metadata": {},
   "outputs": [],
   "source": [
    "node_df = pd.read_csv(r\"C:\\\\Users\\\\pasindu.s\\\\Desktop\\\\Work-Scripts\\\\Node Sorter\\\\AGRU_Nodes.csv\")"
   ]
  },
  {
   "cell_type": "code",
   "execution_count": 3,
   "metadata": {},
   "outputs": [
    {
     "output_type": "execute_result",
     "data": {
      "text/plain": [
       "['7U-1100-1',\n",
       " '7U-1100-2',\n",
       " '7U-1100-3',\n",
       " '7U-1100-4',\n",
       " '7U-1100-5',\n",
       " '7U-1100-6',\n",
       " '7U-1100-7',\n",
       " '7U-1100-8',\n",
       " '7U-1100-9',\n",
       " '7U-1100-10',\n",
       " '7U-1100-11']"
      ]
     },
     "metadata": {},
     "execution_count": 3
    }
   ],
   "source": [
    "node_list = node_df[\"Nodes\"].tolist()\n",
    "node_list"
   ]
  },
  {
   "cell_type": "code",
   "execution_count": 4,
   "metadata": {},
   "outputs": [],
   "source": [
    "doc = fitz.open(\"Acid Gas Removal Unit_Node mark-up_31Mar2021.pdf\")"
   ]
  },
  {
   "cell_type": "code",
   "execution_count": 5,
   "metadata": {},
   "outputs": [],
   "source": [
    "pg1 = doc[7]\n",
    "for annot in pg1.annots():\n",
    "    if(annot.type[1] == 'FreeText'):\n",
    "        temp = annot.info[\"content\"]"
   ]
  },
  {
   "cell_type": "code",
   "execution_count": 6,
   "metadata": {},
   "outputs": [
    {
     "output_type": "execute_result",
     "data": {
      "text/plain": [
       "False"
      ]
     },
     "metadata": {},
     "execution_count": 6
    }
   ],
   "source": [
    "node_list[0] in temp.split(\" \")"
   ]
  },
  {
   "cell_type": "code",
   "execution_count": 7,
   "metadata": {},
   "outputs": [
    {
     "output_type": "execute_result",
     "data": {
      "text/plain": [
       "['NODE', '7U-1100-2']"
      ]
     },
     "metadata": {},
     "execution_count": 7
    }
   ],
   "source": [
    "test = \"NODE 7U-1100-2\"\n",
    "test.split(\" \")"
   ]
  },
  {
   "cell_type": "code",
   "execution_count": 31,
   "metadata": {},
   "outputs": [],
   "source": [
    "import PyPDF2"
   ]
  },
  {
   "cell_type": "code",
   "execution_count": 16,
   "metadata": {},
   "outputs": [],
   "source": [
    "current = os.getcwd()\n",
    "#binderpdf = PyPDF2.PdfFileReader(\"Acid Gas Removal Unit_Node mark-up_31Mar2021.pdf\",'rb')\n",
    "doc = fitz.open(\"Acid Gas Removal Unit_Node mark-up_31Mar2021.pdf\")\n",
    "for node in node_list:\n",
    "    node_pg_count = list()\n",
    "    nodefile = fitz.open()\n",
    "    for i in range(0,doc.pageCount):\n",
    "        pg = doc[i]\n",
    "        for annot in pg.annots():\n",
    "            if((annot.type[1] == 'FreeText') & (node in annot.info[\"content\"].split(\" \"))):\n",
    "                node_pg_count.append(i)\n",
    "    for pg_num in node_pg_count:\n",
    "        nodefile.insert_pdf(doc,pg_num,pg_num,annots=True)\n",
    "        #nodefile.save()\n",
    "    #nodefile.insert_pdf(doc, extract_pg])\n",
    "    path = os.path.join(os.getcwd(),node)\n",
    "    os.makedirs(path)\n",
    "    pdf_path = os.path.join(path,node + '.pdf')\n",
    "    nodefile.save(pdf_path)\n",
    "    nodefile.close()\n",
    "    #with open(pdf_path,'wb') as abc:\n",
    "    #    nodefile.write(abc)"
   ]
  },
  {
   "cell_type": "code",
   "execution_count": 46,
   "metadata": {},
   "outputs": [
    {
     "output_type": "execute_result",
     "data": {
      "text/plain": [
       "8"
      ]
     },
     "metadata": {},
     "execution_count": 46
    }
   ],
   "source": [
    "annot.info[\"content\"].find('REFERENCE')"
   ]
  },
  {
   "cell_type": "code",
   "execution_count": 32,
   "metadata": {},
   "outputs": [
    {
     "output_type": "execute_result",
     "data": {
      "text/plain": [
       "'c:\\\\Users\\\\pasindu.s\\\\Desktop\\\\Work-Scripts\\\\Node Sorter'"
      ]
     },
     "metadata": {},
     "execution_count": 32
    }
   ],
   "source": []
  },
  {
   "cell_type": "code",
   "execution_count": 33,
   "metadata": {},
   "outputs": [
    {
     "output_type": "execute_result",
     "data": {
      "text/plain": [
       "'c:\\\\Users\\\\pasindu.s\\\\Desktop\\\\Work-Scripts\\\\Node Sorter\\\\7U-1100-1'"
      ]
     },
     "metadata": {},
     "execution_count": 33
    }
   ],
   "source": [
    "path = os.path.join(os.getcwd(),\"7U-1100-1\")\n",
    "path"
   ]
  },
  {
   "cell_type": "code",
   "execution_count": 35,
   "metadata": {},
   "outputs": [],
   "source": [
    "os.makedirs(path)"
   ]
  },
  {
   "cell_type": "code",
   "execution_count": 38,
   "metadata": {},
   "outputs": [],
   "source": [
    "pdf_path = os.path.join(path,'7U-1100-1' + '.pdf')"
   ]
  },
  {
   "cell_type": "code",
   "execution_count": 39,
   "metadata": {},
   "outputs": [
    {
     "output_type": "execute_result",
     "data": {
      "text/plain": [
       "'c:\\\\Users\\\\pasindu.s\\\\Desktop\\\\Work-Scripts\\\\Node Sorter\\\\7U-1100-1\\\\7U-1100-1.pdf'"
      ]
     },
     "metadata": {},
     "execution_count": 39
    }
   ],
   "source": [
    "pdf_path"
   ]
  },
  {
   "cell_type": "code",
   "execution_count": null,
   "metadata": {},
   "outputs": [],
   "source": []
  }
 ]
}